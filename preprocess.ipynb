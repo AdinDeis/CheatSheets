{
  "nbformat": 4,
  "nbformat_minor": 0,
  "metadata": {
    "colab": {
      "name": "preprocess.ipynb",
      "provenance": [],
      "collapsed_sections": [],
      "include_colab_link": true
    },
    "kernelspec": {
      "name": "python3",
      "display_name": "Python 3"
    }
  },
  "cells": [
    {
      "cell_type": "markdown",
      "metadata": {
        "id": "view-in-github",
        "colab_type": "text"
      },
      "source": [
        "<a href=\"https://colab.research.google.com/github/AdrianduPlessis/CheatSheets/blob/master/preprocess.ipynb\" target=\"_parent\"><img src=\"https://colab.research.google.com/assets/colab-badge.svg\" alt=\"Open In Colab\"/></a>"
      ]
    },
    {
      "cell_type": "markdown",
      "metadata": {
        "id": "GxGDCIbkANkW",
        "colab_type": "text"
      },
      "source": [
        "# Notebook that shows quick and easy preprocessing for baseline model"
      ]
    },
    {
      "cell_type": "markdown",
      "metadata": {
        "id": "WIB7WWcWBcpq",
        "colab_type": "text"
      },
      "source": [
        "## Imports"
      ]
    },
    {
      "cell_type": "code",
      "metadata": {
        "id": "kOO-B4AM3zLh",
        "colab_type": "code",
        "colab": {}
      },
      "source": [
        "import numpy as np\n",
        "import pandas as pd\n",
        "from sklearn.pipeline import Pipeline\n",
        "from sklearn.impute import SimpleImputer\n",
        "from sklearn.preprocessing import OneHotEncoder, OrdinalEncoder"
      ],
      "execution_count": 0,
      "outputs": []
    },
    {
      "cell_type": "markdown",
      "metadata": {
        "id": "_PqcZ_8mASnz",
        "colab_type": "text"
      },
      "source": [
        "## Data"
      ]
    },
    {
      "cell_type": "code",
      "metadata": {
        "id": "xoU3pKGPAMLV",
        "colab_type": "code",
        "colab": {}
      },
      "source": [
        "columns = [\"name\", \"age\"]\n",
        "data = [[\"Alvin\", 23], [np.nan, 21], [\"Riken\", np.nan]]\n",
        "df = pd.DataFrame(columns= columns, data = data)"
      ],
      "execution_count": 0,
      "outputs": []
    },
    {
      "cell_type": "markdown",
      "metadata": {
        "id": "0io6HCAcEEjb",
        "colab_type": "text"
      },
      "source": [
        "# *** Note that prior to this step, you remove the target column ***"
      ]
    },
    {
      "cell_type": "markdown",
      "metadata": {
        "id": "PtQIG1_9AVFS",
        "colab_type": "text"
      },
      "source": [
        "## Split numeric and categorical"
      ]
    },
    {
      "cell_type": "code",
      "metadata": {
        "id": "ncmoQCPP5GaM",
        "colab_type": "code",
        "colab": {}
      },
      "source": [
        "numeric = df.select_dtypes(include= \"number\").columns\n",
        "categorical = df.select_dtypes(exclude = \"number\").columns"
      ],
      "execution_count": 0,
      "outputs": []
    },
    {
      "cell_type": "markdown",
      "metadata": {
        "id": "7VTt0qnjAY-M",
        "colab_type": "text"
      },
      "source": [
        "## Create Categorical and Numeric preprocessing pipelines"
      ]
    },
    {
      "cell_type": "code",
      "metadata": {
        "id": "BZGfOkqE75do",
        "colab_type": "code",
        "colab": {}
      },
      "source": [
        "c_steps = [('c_imputer', SimpleImputer(strategy=\"most_frequent\"))]\n",
        "c_pipeline = Pipeline(c_steps)\n",
        "\n",
        "n_steps = [('n_imputer', SimpleImputer())]\n",
        "n_pipeline = Pipeline(n_steps)"
      ],
      "execution_count": 0,
      "outputs": []
    },
    {
      "cell_type": "markdown",
      "metadata": {
        "id": "mFb__9alAgD5",
        "colab_type": "text"
      },
      "source": [
        "## Fit pipelines to corresponsing datatypes"
      ]
    },
    {
      "cell_type": "code",
      "metadata": {
        "id": "p9IGCbm06rWW",
        "colab_type": "code",
        "colab": {}
      },
      "source": [
        "df[numeric] = n_pipeline.fit_transform(df[numeric])\n",
        "df[categorical] = c_pipeline.fit_transform(df[categorical])"
      ],
      "execution_count": 0,
      "outputs": []
    },
    {
      "cell_type": "markdown",
      "metadata": {
        "id": "PCMJ3IpwA3hO",
        "colab_type": "text"
      },
      "source": [
        "# Use first function if One hot encoder is not a step in your categorical preprocessing"
      ]
    },
    {
      "cell_type": "code",
      "metadata": {
        "id": "_fy_cgAc_h6P",
        "colab_type": "code",
        "colab": {}
      },
      "source": [
        "def simple_preprocess(df):\n",
        "  \n",
        "  numeric = df.select_dtypes(include= \"number\").columns\n",
        "  categorical = df.select_dtypes(exclude = \"number\").columns\n",
        "  \n",
        "  c_steps = [('c_imputer', SimpleImputer(strategy=\"most_frequent\")),\n",
        "            ('ordinal', OrdinalEncoder())]\n",
        "  c_pipeline = Pipeline(c_steps)\n",
        "  \n",
        "  n_steps = [('n_imputer', SimpleImputer())]\n",
        "  n_pipeline = Pipeline(n_steps)\n",
        "  \n",
        "  df[numeric] = n_pipeline.fit_transform(df[numeric])\n",
        "  df[categorical] = c_pipeline.fit_transform(df[categorical])\n",
        "  \n",
        "  return df"
      ],
      "execution_count": 0,
      "outputs": []
    },
    {
      "cell_type": "code",
      "metadata": {
        "id": "fqeNirRGK0K_",
        "colab_type": "code",
        "colab": {}
      },
      "source": [
        "def simple_preprocess(df):\n",
        "  \n",
        "  numeric = df.select_dtypes(include= \"number\")\n",
        "  categorical = df.select_dtypes(exclude = \"number\")\n",
        "  \n",
        "  c_steps = [('c_imputer', SimpleImputer(strategy=\"most_frequent\")),\n",
        "            ('onehot', OneHotEncoder())]\n",
        "  c_pipeline = Pipeline(c_steps)\n",
        "  \n",
        "  n_steps = [('n_imputer', SimpleImputer()),\n",
        "            ('ordinal', OrdinalEncoder())]\n",
        "  n_pipeline = Pipeline(n_steps)\n",
        "  \n",
        "  numeric_data = n_pipeline.fit_transform(numeric)\n",
        "  categorical_data = c_pipeline.fit_transform(categorical).toarray()\n",
        "  \n",
        "  numeric = pd.DataFrame(columns= numeric.columns, data=numeric_data)\n",
        "  categorical = pd.DataFrame(columns= c_pipeline['onehot'].categories_, data=categorical_data)\n",
        "  \n",
        "  df = pd.concat([numeric, categorical], axis = 1)\n",
        "  \n",
        "  return df"
      ],
      "execution_count": 0,
      "outputs": []
    },
    {
      "cell_type": "code",
      "metadata": {
        "id": "2NVoPEZvPRu6",
        "colab_type": "code",
        "outputId": "7c1c5394-5881-4432-e237-ad9fa7bfa2ae",
        "colab": {
          "base_uri": "https://localhost:8080/",
          "height": 136
        }
      },
      "source": [
        "simple_preprocess(df)"
      ],
      "execution_count": 0,
      "outputs": [
        {
          "output_type": "execute_result",
          "data": {
            "text/html": [
              "<div>\n",
              "<style scoped>\n",
              "    .dataframe tbody tr th:only-of-type {\n",
              "        vertical-align: middle;\n",
              "    }\n",
              "\n",
              "    .dataframe tbody tr th {\n",
              "        vertical-align: top;\n",
              "    }\n",
              "\n",
              "    .dataframe thead th {\n",
              "        text-align: right;\n",
              "    }\n",
              "</style>\n",
              "<table border=\"1\" class=\"dataframe\">\n",
              "  <thead>\n",
              "    <tr style=\"text-align: right;\">\n",
              "      <th></th>\n",
              "      <th>name</th>\n",
              "      <th>age</th>\n",
              "    </tr>\n",
              "  </thead>\n",
              "  <tbody>\n",
              "    <tr>\n",
              "      <th>0</th>\n",
              "      <td>0.0</td>\n",
              "      <td>23.0</td>\n",
              "    </tr>\n",
              "    <tr>\n",
              "      <th>1</th>\n",
              "      <td>0.0</td>\n",
              "      <td>21.0</td>\n",
              "    </tr>\n",
              "    <tr>\n",
              "      <th>2</th>\n",
              "      <td>1.0</td>\n",
              "      <td>22.0</td>\n",
              "    </tr>\n",
              "  </tbody>\n",
              "</table>\n",
              "</div>"
            ],
            "text/plain": [
              "   name   age\n",
              "0   0.0  23.0\n",
              "1   0.0  21.0\n",
              "2   1.0  22.0"
            ]
          },
          "metadata": {
            "tags": []
          },
          "execution_count": 50
        }
      ]
    }
  ]
}